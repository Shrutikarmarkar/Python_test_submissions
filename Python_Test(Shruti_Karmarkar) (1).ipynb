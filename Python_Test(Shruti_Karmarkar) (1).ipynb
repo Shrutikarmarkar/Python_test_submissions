{
  "nbformat": 4,
  "nbformat_minor": 0,
  "metadata": {
    "colab": {
      "provenance": []
    },
    "kernelspec": {
      "name": "python3",
      "display_name": "Python 3",
      "language": "python"
    },
    "language_info": {
      "name": "python",
      "version": "3.7.10-final"
    }
  },
  "cells": [
    {
      "cell_type": "markdown",
      "source": [
        "## Python Test\n",
        "\n",
        "### Instructions:\n",
        "\n",
        "You are given with Python coding problems. These problems will give you the chance to test your implementations of the questions. Each code runs your implementations for a number of testcases. You use the test codes to make sure that:\n",
        "\n",
        "    • Your function does not crash, that is, there is no Python errors when trying to run the\n",
        "    function.\n",
        "\n",
        "    • Compare the results of the testcases to your results. Expected results are given at the\n",
        "    end of each code.\n",
        "\n",
        "\n",
        "In each problem, replace pass command with your implementation of each required function."
      ],
      "metadata": {
        "id": "AoBhB2LUBoyf"
      }
    },
    {
      "cell_type": "markdown",
      "source": [
        "### Question 1 - Arithmetic\n",
        "\n",
        "In this question, your task is to implement a function `do_arithmetic(x,y,op)` which takes three input arguments: a number x,\n",
        "a number y, and a string op representing an operation. The function has to perform the\n",
        "operation on the two numbers and return the result.\n",
        "\n",
        "- Example 1: if you call the function with the parameter `do_arithmetic(10,4,’add’)` the function should return the value 14.0.\n",
        "\n",
        "- Example 2: `do_arithmetic(2,3,’*’)` should return 6.0.\n",
        "\n",
        "**Detailed instructions:**\n",
        "-  You can assume that x and y are always provided and always valid numbers (e.g. integers or floats).\n",
        "\n",
        "- `op` is a string representing the operation to perform. You have to implement four operations with ’add’, ’+’, ’subtract’, ’-’, ’multiply’, ’*’, and ’divide’, ’/’.\n",
        "\n",
        "- If `op` is not specified by the user it should default to ’add’.\n",
        "\n",
        "- If `op` is specified by the user but it is not one of the four operations (with eight keywords), print ’Unknown operation’ and return None.\n",
        "\n",
        "- Division by zero should be avoided. To this end, return None whenever division by zero would occur, and print ’Division by 0!’\n",
        "\n",
        "- The returned result should always be of type float.\n",
        "\n",
        "Test code: The following test cases will be tested:\n",
        "\n",
        "`do_arithmetic(24, -7, 'add')`\n",
        "- Expected result:- 17.0\n",
        "\n",
        "`do_arithmetic(6, 6, 'multiply')`\n",
        "- Expected result:- 36.0\n",
        "\n",
        "`do_arithmetic(4, 0, '/')`\n",
        "- Expected result: \"Division by Zero!\"\n",
        "\n",
        "`do_arithmetic(3, 9, '-')`\n",
        "- Expected result: -6.0\n",
        "\n",
        "`do_arithmetic(10, -43, 'subtract')`\n",
        "- Expected result: 53.0\n",
        "\n",
        "`do_arithmetic(3, 9)`\n",
        "- Expected result: 12.0"
      ],
      "metadata": {
        "id": "a9aj25yKCjXR"
      }
    },
    {
      "cell_type": "code",
      "source": [
        "def do_arithmetic(x,y,op=\"add\"):\n",
        "    if op == \"add\" or op == \"+\":\n",
        "      return float(x+y)\n",
        "    elif op == \"subtract\" or op == \"-\":\n",
        "      return float (x-y)\n",
        "    elif op == \"multiply\" or op == \"*\":\n",
        "      return float (x*y)\n",
        "    elif op == \"divide\" or op == \"/\":\n",
        "      try:\n",
        "        return float(x/y)\n",
        "      except:\n",
        "        print(\"Division by Zero!\")\n",
        "        return None\n",
        "    else:\n",
        "       print(\"Unknown operation\")\n",
        "       return None\n",
        "\n"
      ],
      "metadata": {
        "id": "6qw-Ev62CZ55"
      },
      "execution_count": 4,
      "outputs": []
    },
    {
      "cell_type": "code",
      "source": [
        "do_arithmetic(24, -7, 'add')"
      ],
      "metadata": {
        "colab": {
          "base_uri": "https://localhost:8080/"
        },
        "id": "EGL2xax6Cw1U",
        "outputId": "31fdbd55-170d-4f0a-a1d1-e616f99947de"
      },
      "execution_count": 5,
      "outputs": [
        {
          "output_type": "execute_result",
          "data": {
            "text/plain": [
              "17.0"
            ]
          },
          "metadata": {},
          "execution_count": 5
        }
      ]
    },
    {
      "cell_type": "code",
      "source": [
        "do_arithmetic(6, 6, 'multiply')"
      ],
      "metadata": {
        "colab": {
          "base_uri": "https://localhost:8080/"
        },
        "id": "nJiCIxCSCwx7",
        "outputId": "e7ff12d5-4698-4e51-f3b6-a5c3f3fe823c"
      },
      "execution_count": 6,
      "outputs": [
        {
          "output_type": "execute_result",
          "data": {
            "text/plain": [
              "36.0"
            ]
          },
          "metadata": {},
          "execution_count": 6
        }
      ]
    },
    {
      "cell_type": "code",
      "source": [
        "do_arithmetic(4, 0, '/')"
      ],
      "metadata": {
        "colab": {
          "base_uri": "https://localhost:8080/"
        },
        "id": "HHalZbxSCwvd",
        "outputId": "65574dbd-dd01-427c-a2e1-27ee6565f346"
      },
      "execution_count": 7,
      "outputs": [
        {
          "output_type": "stream",
          "name": "stdout",
          "text": [
            "Division by Zero!\n"
          ]
        }
      ]
    },
    {
      "cell_type": "code",
      "source": [
        "do_arithmetic(3, 9, '-')"
      ],
      "metadata": {
        "colab": {
          "base_uri": "https://localhost:8080/"
        },
        "id": "fP3Yz1fCCwtB",
        "outputId": "3660089c-86f6-4581-f6bc-9e0e081204bc"
      },
      "execution_count": 8,
      "outputs": [
        {
          "output_type": "execute_result",
          "data": {
            "text/plain": [
              "-6.0"
            ]
          },
          "metadata": {},
          "execution_count": 8
        }
      ]
    },
    {
      "cell_type": "code",
      "source": [
        "do_arithmetic(10, -43, 'subtract')"
      ],
      "metadata": {
        "colab": {
          "base_uri": "https://localhost:8080/"
        },
        "id": "WwTFZloYCwpw",
        "outputId": "e8b1dbe3-e49c-4d52-fe86-2016e61f48e7"
      },
      "execution_count": 9,
      "outputs": [
        {
          "output_type": "execute_result",
          "data": {
            "text/plain": [
              "53.0"
            ]
          },
          "metadata": {},
          "execution_count": 9
        }
      ]
    },
    {
      "cell_type": "code",
      "source": [
        "do_arithmetic(3, 9)"
      ],
      "metadata": {
        "colab": {
          "base_uri": "https://localhost:8080/"
        },
        "id": "_ZdpWRX0Cwm2",
        "outputId": "c0263d14-d964-40c3-f08e-04c18efc6421"
      },
      "execution_count": 10,
      "outputs": [
        {
          "output_type": "execute_result",
          "data": {
            "text/plain": [
              "12.0"
            ]
          },
          "metadata": {},
          "execution_count": 10
        }
      ]
    },
    {
      "cell_type": "markdown",
      "source": [
        "### Question 2 - Sum of digits\n",
        "\n",
        "Write a function `sum_of_digits(s)` that takes as input a string s that contains some numbers. The function calculates the sum of all the digits in the string, ignoring any symbols that\n",
        "are not digits.\n",
        "\n",
        "• Example: `sum_of_digits(\"123\")` should return 6 since 1+2+3 = 6\n",
        "\n",
        "• Example 2: `sum_of_digits(\"10a20\")` should return 3 because 1+0+2+0 = 3.\n",
        "Detailed instructions:\n",
        "\n",
        "- if s includes both digits and nondigits\n",
        " \n",
        "  – Calculate the sum of digits and return the result whilst ignoring any\n",
        "  \n",
        "  non-digit symbols in the string.\n",
        "  \n",
        "  – print e.g. for `sum_of_digits(\"10a20\")`\n",
        "  \n",
        "  ’The sum of digits operation performs 1+0+2+0’\n",
        "\n",
        "  – Save the extracted non-digits in a variable of interest as a list and print \"The extracted non-digits are: [’a’]\"\n",
        "\n",
        "- If s is not provided or an empty string return 0 and print\n",
        "  \n",
        "  ’Empty string entered!’.\n",
        "\n",
        "- If s is provided, but it contains no digits return 0 and print\n",
        "  \n",
        "  ’The sum of digits operation could not detect a digit!’\n",
        "  \n",
        "  ’The returned input letters are: [ALL NONDIGITS HERE]’\n",
        "\n",
        "- The returned number should be an integer.\n",
        "\n",
        "  - Example 1: When you run `sum_of_digits(\"a1w3\")` , the function should print\n",
        "    \n",
        "    The sum of digits operation performs 1+3\n",
        "    \n",
        "    The extracted non-digits are: [’a’, ’w’]\n",
        "    \n",
        "    4\n",
        "\n",
        "  - Example 2: When you run `sum_of_digits(\"united\")`, the function should print\n",
        "    \n",
        "    The sum of digits operation could not detect a digit!\n",
        "\n",
        "    The returned input letters are: [’u’, ’n’, ’i’, ’t’, ’e’, ’d’]\n",
        "    \n",
        "    0\n",
        "\n",
        "Test code: The following test cases will be tested:\n",
        "\n",
        "`sum_of_digits(\"123\")`\n",
        "\n",
        "- Expected result: \n",
        "  \n",
        "  The sum of digit operation performs 1 + 2 + 3\n",
        "  \n",
        "  The extracted non-digits are []\n",
        "  \n",
        "  6\n",
        "\n",
        "`sum_of_digits(\"we10a20b\")`\n",
        "\n",
        "- Expected result: \n",
        "\n",
        "  The sum of digit operation performs 1 + 0 + 2 + 0\n",
        "\n",
        "  The extracted non-digits are ['w', 'e', 'a', 'b']\n",
        "\n",
        "  3\n",
        "\n",
        "`sum_of_digits(\"united\")`\n",
        "- Expected result: \n",
        "\n",
        "  The sum of digits operation could not detect a digit!\n",
        "  \n",
        "  The extracted non-digits are ['u', 'n', 'i', 't', 'e', 'd']\n",
        "  \n",
        "  0\n",
        "\n",
        "`sum_of_digits(\"\")`\n",
        "\n",
        "- Expected result:\n",
        "\n",
        "  The sum of digits operation could not detect a digit!\n",
        "  \n",
        "  The extracted non-digits are []\n",
        "  \n",
        "  0"
      ],
      "metadata": {
        "id": "oiXY9pAQD5bE"
      }
    },
    {
      "cell_type": "code",
      "source": [
        "def sum_of_digits(s):\n",
        "  list1 = []\n",
        "  list2=[]\n",
        "  sum = 0\n",
        "\n",
        "  for i in range (len(s)):\n",
        "    if s[i].isnumeric():\n",
        "      sum+= int(s[i])\n",
        "      list2.append(s[i])\n",
        "    else:\n",
        "      list1.append(s[i])\n",
        "  \n",
        "  if sum==0:\n",
        "    print(\"The sum of digits operation could not detect a digit!\")\n",
        "  else:\n",
        "    print(\"The sum of digit operation performs\",\" + \".join(list2))\n",
        "  print(\"The extracted non-digits are\",list1)\n",
        "  return sum"
      ],
      "metadata": {
        "id": "9c0W7oiZNVI9"
      },
      "execution_count": null,
      "outputs": []
    },
    {
      "cell_type": "code",
      "source": [
        "sum_of_digits(\"123\")"
      ],
      "metadata": {
        "colab": {
          "base_uri": "https://localhost:8080/"
        },
        "id": "JLbrM6_QDN0y",
        "outputId": "1b55ec8c-d1d2-4edf-ec11-3ada608a29e0"
      },
      "execution_count": null,
      "outputs": [
        {
          "output_type": "stream",
          "name": "stdout",
          "text": [
            "The sum of digit operation performs 1 + 2 + 3\n",
            "The extracted non-digits are []\n"
          ]
        },
        {
          "output_type": "execute_result",
          "data": {
            "text/plain": [
              "6"
            ]
          },
          "metadata": {},
          "execution_count": 85
        }
      ]
    },
    {
      "cell_type": "code",
      "source": [
        "sum_of_digits(\"we10a20b\")"
      ],
      "metadata": {
        "colab": {
          "base_uri": "https://localhost:8080/"
        },
        "id": "rVhwM0HcDN6N",
        "outputId": "6943c4ba-91c6-43a3-e0be-458a3cb3edaa"
      },
      "execution_count": null,
      "outputs": [
        {
          "output_type": "stream",
          "name": "stdout",
          "text": [
            "The sum of digit operation performs 1 + 0 + 2 + 0\n",
            "The extracted non-digits are ['w', 'e', 'a', 'b']\n"
          ]
        },
        {
          "output_type": "execute_result",
          "data": {
            "text/plain": [
              "3"
            ]
          },
          "metadata": {},
          "execution_count": 86
        }
      ]
    },
    {
      "cell_type": "code",
      "source": [
        "sum_of_digits(\"united\")"
      ],
      "metadata": {
        "colab": {
          "base_uri": "https://localhost:8080/"
        },
        "id": "8-JITb20DOBu",
        "outputId": "e3c02ee1-4ceb-41e8-813b-884907c93401"
      },
      "execution_count": null,
      "outputs": [
        {
          "output_type": "stream",
          "name": "stdout",
          "text": [
            "The sum of digits operation could not detect a digit!\n",
            "The extracted non-digits are ['u', 'n', 'i', 't', 'e', 'd']\n"
          ]
        },
        {
          "output_type": "execute_result",
          "data": {
            "text/plain": [
              "0"
            ]
          },
          "metadata": {},
          "execution_count": 87
        }
      ]
    },
    {
      "cell_type": "code",
      "source": [
        "sum_of_digits(\"\")"
      ],
      "metadata": {
        "colab": {
          "base_uri": "https://localhost:8080/"
        },
        "id": "ENL-pUnrDOFE",
        "outputId": "02668f83-dd1b-43a0-d5c4-80b90f6dc77c"
      },
      "execution_count": null,
      "outputs": [
        {
          "output_type": "stream",
          "name": "stdout",
          "text": [
            "The sum of digits operation could not detect a digit!\n",
            "The extracted non-digits are []\n"
          ]
        },
        {
          "output_type": "execute_result",
          "data": {
            "text/plain": [
              "0"
            ]
          },
          "metadata": {},
          "execution_count": 88
        }
      ]
    },
    {
      "cell_type": "markdown",
      "source": [
        "### Question 3 - Pluralize\n",
        "\n",
        "Please download following file named `pronoun.txt` before you solve this questions the link is given below:\n",
        "\n",
        "[Required file link](https://cdn.discordapp.com/attachments/953213295710584862/974555326865100830/pronoun.txt)\n",
        "\n",
        "Write a function `pluralize(word)` that determines the plural of an English word.\n",
        "Input: Your function takes one argument as input, word, a string representing the word to be\n",
        "pluralised. We assume this word will only be one single token, i.e., no spaces. Your function will also have to load the text file `proper nouns.txt`.\n",
        "\n",
        "Output: The function should return a dictionary of the form:\n",
        "  - {’plural’: word_in_plural, ’status’: x}\n",
        "\n",
        "\n",
        "where word_in_plural is the pluralized version of the input argument word and x is a\n",
        "string which can have one of the following values: ’empty_string’, ’proper_noun’, ’\n",
        "already_in_plural’, ’success’.\n",
        "\n",
        "\n",
        "Below is the logic (in order) that the function should execute.\n",
        "\n",
        "1) Determine if the word is an empty string, already in plural, or a proper noun.\n",
        "\n",
        "    • If the word is an empty string, then your function returns a dictionary with the following values:\n",
        "    \n",
        "      – word_in_plural = ’’ and x = ’empty_string’\n",
        "    \n",
        "      – Explanation: The input word is an empty string and it cannot be pluralized.\n",
        "    \n",
        "    • If the word is already in plural, then your function returns a dictionary with the following values:\n",
        "    \n",
        "      – word_in_plural = word and x = ’already_in_plural’.\n",
        "    \n",
        "      – Explanation: The input word remains untouched (e.g., input: houses, output: houses).\n",
        "    \n",
        "    • If the word is a proper noun, then your function returns a dictionary with the following values:\n",
        "    \n",
        "      – word_in_plural = word and x = ’proper_noun’.\n",
        "    \n",
        "      – Explanation: The input word is a proper noun, and therefore cannot be pluralized (e.g., input: Adam, output: Adam).\n",
        "\n",
        "    • How to determine plural form: We will assume a word is in plural if it ends with ’s’.\n",
        "\n",
        "    • How to determine if a word is a proper noun: We will assume a word is a proper noun if it exists in the file proper nouns.txt. Note that your function should convert any capitalised input to lower case first because the proper nouns in the list are all lower case. The values in your output dictionary, however, will retain the original capitalisation\n",
        "\n",
        "2) If the word is not plural and is not a proper noun, then:\n",
        "  Apply the following English plural rules.\n",
        "    \n",
        "    • If the word ends with a vowel:\n",
        "        – add -s.\n",
        "    \n",
        "    • Otherwise:\n",
        "        \n",
        "        – If it ends with ’y’ and is preceded by a consonant, erase the last letter and add\n",
        "        \n",
        "          -ies.\n",
        "        \n",
        "        – If it ends with ’f’, erase the last letter and add -ves.\n",
        "        \n",
        "        – If it ends with ’sh’/’ch’/’z’, add -es.\n",
        "        \n",
        "        – If none of the above applies, just add -s.\n",
        "\n",
        "    • After these rules are applied, your output dictionary should be:\n",
        "        – {’plural’: word_in_plural, ’status’: ’success’}\n",
        "\n",
        "\n",
        "Test code: The following test cases will be tested:\n",
        "\n",
        "`pluralize(\"failure\")`\n",
        "- Expected result: `{'plural':'failures', 'status':'success'}`\n",
        "\n",
        "`pluralize(\"food\")`\n",
        "- Expected result: `{'plural':'foods', 'status':'success'}`\n",
        "\n",
        "`pluralize(\"Zulma\")`\n",
        "- Expected result: `{'plural':'zulma', 'status':'proper_noun'}`\n",
        "\n",
        "`pluralize(\"injury\")`\n",
        "- Expected result: `{'plural':'injuries', 'status':'success'}`\n",
        "\n",
        "`pluralize(\"elf\")`\n",
        "- Expected result: `{'plural':'elves', 'status':'success'}`\n",
        "\n",
        "`pluralize(\"buzz\")`\n",
        "- Expected result: `{'plural':'buzzes', 'status':'success'}`\n",
        "\n",
        "`pluralize(\"computers\")`\n",
        "- Expected result: `{'plural':'computers', 'status':'already_in_plural'}`\n",
        "\n",
        "`pluralize(\"PCs\")`\n",
        "- Expected result: `{'plural':'PCs', 'status':'already_in_plural'}`\n",
        "\n",
        "`pluralize(\"\")`\n",
        "- Expected result: `{'plural':'', 'status':'empty_string'}`\n",
        "\n",
        "`pluralize(\"highway\")`\n",
        "- Expected result: `{'plural':'highways', 'status':'success'}`\n",
        "\n",
        "`pluralize(\"presentation\")`\n",
        "- Expected result: `{'plural':'presentations', 'status':'success'}`\n",
        "\n",
        "`pluralize(\"pouch\")`\n",
        "- Expected result: `{'plural':'pouches', 'status':'success'}`\n",
        "\n",
        "`pluralize(\"COVID-19\")`\n",
        "- Expected result: `{'plural':'COVID-19s', 'status':'success'}`\n",
        "\n",
        "`pluralize(\"adam\")`\n",
        "- Expected result: `{'plural':'adam', 'status':'proper_noun'}`\n"
      ],
      "metadata": {
        "id": "Ho-lFx1GFOvj"
      }
    },
    {
      "cell_type": "code",
      "source": [
        "def pluralize(word):\n",
        "  dict1={}\n",
        "  temp = word\n",
        "  word = word.lower()\n",
        "  with open(\"pronoun.txt\", 'r') as f_object:\n",
        "    word_lst = f_object.read().split()\n",
        "  if word == \"\":\n",
        "    x = \"empty_string\"\n",
        "    dict1[\"plural\"] = temp\n",
        "    dict1['statues'] = x\n",
        "\n",
        "  elif word[-1] == \"s\":\n",
        "    x = \"already_in_plural\"\n",
        "    dict1[\"plural\"] = temp\n",
        "    dict1['statues'] = x\n",
        "  \n",
        "  elif word in word_lst:\n",
        "    x = \"proper_noun\"\n",
        "    dict1[\"plural\"] = temp\n",
        "    dict1['statues'] = x\n",
        "  \n",
        "  else:\n",
        "    if word[-1] in \"aeiou\":\n",
        "      temp = temp+\"s\"\n",
        "      x = \"success\"\n",
        "      dict1[\"plural\"] = temp\n",
        "      dict1['statues'] = x\n",
        "    \n",
        "    else:\n",
        "      if word[-1] == \"y\" and word[-2] in \"bcdfghjklmnpqrstvwxyz\":\n",
        "        temp = temp[:-1]\n",
        "        temp = temp+\"ies\"\n",
        "        x = \"success\"\n",
        "        dict1[\"plural\"] = temp\n",
        "        dict1['statues'] = x\n",
        "\n",
        "      elif word[-1] == \"f\":\n",
        "        temp = temp[:-1]\n",
        "        temp = temp+\"ves\"\n",
        "        x = \"success\"\n",
        "        dict1[\"plural\"] = temp\n",
        "        dict1['statues'] = x\n",
        "      \n",
        "      elif word[-2:] == \"sh\" or word[-2:]==\"ch\" or word[-1]==\"z\":\n",
        "        temp = temp+\"es\"\n",
        "        x = \"success\"\n",
        "        dict1[\"plural\"] = temp\n",
        "        dict1['statues'] = x\n",
        "      \n",
        "      else:\n",
        "        temp = temp+\"s\"\n",
        "        x = \"success\"\n",
        "        dict1[\"plural\"] = temp\n",
        "        dict1['statues'] = x\n",
        "\n",
        "  return dict1\n",
        "\n"
      ],
      "metadata": {
        "id": "GDGnrtumKODB"
      },
      "execution_count": null,
      "outputs": []
    },
    {
      "cell_type": "code",
      "source": [
        "pluralize(\"failure\")"
      ],
      "metadata": {
        "colab": {
          "base_uri": "https://localhost:8080/"
        },
        "id": "XpBHZ3MTKQW5",
        "outputId": "21e797f2-8266-4d1a-f283-d5fd796a5704"
      },
      "execution_count": null,
      "outputs": [
        {
          "output_type": "execute_result",
          "data": {
            "text/plain": [
              "{'plural': 'failures', 'statues': 'success'}"
            ]
          },
          "metadata": {},
          "execution_count": 104
        }
      ]
    },
    {
      "cell_type": "code",
      "source": [
        "pluralize(\"food\")"
      ],
      "metadata": {
        "colab": {
          "base_uri": "https://localhost:8080/"
        },
        "id": "vYjXavkgKQcu",
        "outputId": "a4118388-b045-49ca-c03c-6521affdb1fa"
      },
      "execution_count": null,
      "outputs": [
        {
          "output_type": "execute_result",
          "data": {
            "text/plain": [
              "{'plural': 'foods', 'statues': 'success'}"
            ]
          },
          "metadata": {},
          "execution_count": 105
        }
      ]
    },
    {
      "cell_type": "code",
      "source": [
        "pluralize(\"Zulma\")"
      ],
      "metadata": {
        "colab": {
          "base_uri": "https://localhost:8080/"
        },
        "id": "Jipl6tWIKQjd",
        "outputId": "a69843e0-49e3-43af-bcdb-5fc74ff8d172"
      },
      "execution_count": null,
      "outputs": [
        {
          "output_type": "execute_result",
          "data": {
            "text/plain": [
              "{'plural': 'Zulma', 'statues': 'proper_noun'}"
            ]
          },
          "metadata": {},
          "execution_count": 106
        }
      ]
    },
    {
      "cell_type": "code",
      "source": [
        "pluralize(\"injury\")"
      ],
      "metadata": {
        "colab": {
          "base_uri": "https://localhost:8080/"
        },
        "id": "ONzqSHDSKQm1",
        "outputId": "41bf40ee-bd87-426d-8106-0214407e1d7d"
      },
      "execution_count": null,
      "outputs": [
        {
          "output_type": "execute_result",
          "data": {
            "text/plain": [
              "{'plural': 'injuries', 'statues': 'success'}"
            ]
          },
          "metadata": {},
          "execution_count": 107
        }
      ]
    },
    {
      "cell_type": "code",
      "source": [
        "pluralize(\"elf\")"
      ],
      "metadata": {
        "colab": {
          "base_uri": "https://localhost:8080/"
        },
        "id": "xFVwnOH8KQsX",
        "outputId": "ae8b9cc9-1138-467d-f0ab-756fab05da91"
      },
      "execution_count": null,
      "outputs": [
        {
          "output_type": "execute_result",
          "data": {
            "text/plain": [
              "{'plural': 'elves', 'statues': 'success'}"
            ]
          },
          "metadata": {},
          "execution_count": 108
        }
      ]
    },
    {
      "cell_type": "code",
      "source": [
        "pluralize(\"buzz\")"
      ],
      "metadata": {
        "colab": {
          "base_uri": "https://localhost:8080/"
        },
        "id": "_raTkVYVKQyA",
        "outputId": "befc1ce6-4412-4eae-ab59-0edbaf004e2c"
      },
      "execution_count": null,
      "outputs": [
        {
          "output_type": "execute_result",
          "data": {
            "text/plain": [
              "{'plural': 'buzzes', 'statues': 'success'}"
            ]
          },
          "metadata": {},
          "execution_count": 109
        }
      ]
    },
    {
      "cell_type": "code",
      "source": [
        "pluralize(\"computers\")"
      ],
      "metadata": {
        "colab": {
          "base_uri": "https://localhost:8080/"
        },
        "id": "0051yGNbMv5s",
        "outputId": "c8ec9708-1dbd-45dc-b126-3a4ac8907622"
      },
      "execution_count": null,
      "outputs": [
        {
          "output_type": "execute_result",
          "data": {
            "text/plain": [
              "{'plural': 'computers', 'statues': 'already_in_plural'}"
            ]
          },
          "metadata": {},
          "execution_count": 110
        }
      ]
    },
    {
      "cell_type": "code",
      "source": [
        "pluralize(\"PCs\")"
      ],
      "metadata": {
        "colab": {
          "base_uri": "https://localhost:8080/"
        },
        "id": "XCrAfQEVMx4f",
        "outputId": "d64d64a5-210d-4361-bfaa-4b51198c3608"
      },
      "execution_count": null,
      "outputs": [
        {
          "output_type": "execute_result",
          "data": {
            "text/plain": [
              "{'plural': 'PCs', 'statues': 'already_in_plural'}"
            ]
          },
          "metadata": {},
          "execution_count": 111
        }
      ]
    },
    {
      "cell_type": "code",
      "source": [
        "pluralize(\"\")"
      ],
      "metadata": {
        "colab": {
          "base_uri": "https://localhost:8080/"
        },
        "id": "fnaBnvFIM6uq",
        "outputId": "9d3eecfe-0796-4228-d0bd-e8eb80460f3d"
      },
      "execution_count": null,
      "outputs": [
        {
          "output_type": "execute_result",
          "data": {
            "text/plain": [
              "{'plural': '', 'statues': 'empty_string'}"
            ]
          },
          "metadata": {},
          "execution_count": 112
        }
      ]
    },
    {
      "cell_type": "code",
      "source": [
        "pluralize(\"highway\")"
      ],
      "metadata": {
        "colab": {
          "base_uri": "https://localhost:8080/"
        },
        "id": "43AXHkcdM8qg",
        "outputId": "5bba2c66-4e5f-4019-a6c9-6a75567ee21e"
      },
      "execution_count": null,
      "outputs": [
        {
          "output_type": "execute_result",
          "data": {
            "text/plain": [
              "{'plural': 'highways', 'statues': 'success'}"
            ]
          },
          "metadata": {},
          "execution_count": 113
        }
      ]
    },
    {
      "cell_type": "code",
      "source": [
        "pluralize(\"presentation\")"
      ],
      "metadata": {
        "colab": {
          "base_uri": "https://localhost:8080/"
        },
        "id": "eQOD7p-dNA3n",
        "outputId": "fd9f0f4a-af2d-4c99-bccf-a48d8cec8a8d"
      },
      "execution_count": null,
      "outputs": [
        {
          "output_type": "execute_result",
          "data": {
            "text/plain": [
              "{'plural': 'presentations', 'statues': 'success'}"
            ]
          },
          "metadata": {},
          "execution_count": 114
        }
      ]
    },
    {
      "cell_type": "code",
      "source": [
        "pluralize(\"pouch\")"
      ],
      "metadata": {
        "colab": {
          "base_uri": "https://localhost:8080/"
        },
        "id": "3PO1QKJuNCR4",
        "outputId": "748f60b4-5aa4-4867-d3d3-29499d137750"
      },
      "execution_count": null,
      "outputs": [
        {
          "output_type": "execute_result",
          "data": {
            "text/plain": [
              "{'plural': 'pouches', 'statues': 'success'}"
            ]
          },
          "metadata": {},
          "execution_count": 118
        }
      ]
    },
    {
      "cell_type": "code",
      "source": [
        "pluralize(\"COVID-19\")"
      ],
      "metadata": {
        "colab": {
          "base_uri": "https://localhost:8080/"
        },
        "id": "k0NpNEyhNEAp",
        "outputId": "043d433f-0ecd-4578-f3fd-50643a07cd6e"
      },
      "execution_count": null,
      "outputs": [
        {
          "output_type": "execute_result",
          "data": {
            "text/plain": [
              "{'plural': 'COVID-19s', 'statues': 'success'}"
            ]
          },
          "metadata": {},
          "execution_count": 116
        }
      ]
    },
    {
      "cell_type": "code",
      "source": [
        "pluralize(\"adam\")"
      ],
      "metadata": {
        "colab": {
          "base_uri": "https://localhost:8080/"
        },
        "id": "mTeewpR1NGt1",
        "outputId": "b7ae8711-461c-4476-9ba6-e7ab0e2cf2a5"
      },
      "execution_count": null,
      "outputs": [
        {
          "output_type": "execute_result",
          "data": {
            "text/plain": [
              "{'plural': 'adam', 'statues': 'proper_noun'}"
            ]
          },
          "metadata": {},
          "execution_count": 83
        }
      ]
    },
    {
      "cell_type": "markdown",
      "source": [
        "### Question 4 - Function renamer\n",
        "\n",
        "\n",
        "You are working on a large-scale software project involving thousands of different Python files. The files have been written by different programmers and the naming of functions is somewhat inconsistent. You receive a new directive stating that the function names all have to be in camel case. In camel case, function names consisting of multiple words have a capital letter in each word and most underscores are removed. For instance, `def MyArithmeticCalculator()` is in camel case but `def my_arithmetic_calculator()` is not in camel case.\n",
        "\n",
        "You want to write a Python program that automatically processes Python code and renames the function names instead of doing it by hand. The instruction states that:\n",
        "\n",
        "  1.) All functions names need to be changed to camel case. E.g. a function\n",
        "  `calculate_speed_of_vehicle()` needs to be renamed to `CalculateSpeedOfVehicle()`.\n",
        "\n",
        "  2.) If the function has one or more leading ’_’ (underscores) they need to be preserved.\n",
        "\n",
        "  All other underscores need to be removed. E.g. a function `__calc_size()` is renamed to `__CalcSize()`.\n",
        "\n",
        "  3.) If the function is already in camel case, you do not need to change it but it still needs to appear in the dictionary d specified below.\n",
        "\n",
        "  4.) You can assume that there will be no name clashes. That is, a given function name which is not in camel case will not already appear in camel case elsewhere. E.g.if there is a function `print_all_strings()` then there is no function `PrintAllStrings()` elsewhere in the code.\n",
        "\n",
        "5.) Tip: You can use regular expressions to find the function names.\n",
        "\n",
        "\n",
        "To implement this, write a function `function_renamer(code)` that takes as input a string code that represents the Python code. It is typically a multi-line Python string. Your function needs to return the tuple `(d, newcode)`:\n",
        "\n",
        "  • `d` is a nested dictionary where each key corresponds to the original function name. The value is a nested dictionary that has the following items:\n",
        "\n",
        "    – hash: hash code of the original function name (tip: use Python’s hash function)\n",
        "\n",
        "    – camelcase: camel case version of original function name\n",
        "\n",
        "    – allcaps: all caps version of original function name\n",
        "\n",
        "  • newcode is a string containing the code wherein all function names have been renamed by their camel case versions. Note that you need to change the function name and also all other locations where the function name is used (e.g. function calls). You should not change anything else in the code (e.g. the contents of any strings). To clarify this, a few examples are given below:\n",
        "    - Example 1: Assume your input code is the multi-line string\n",
        "    \n",
        "        def add_two_numbers(a, b):\n",
        "          return a + b\n",
        "          print(add_two_numbers(10, 20))\n",
        " \n",
        "    \n",
        "    \n",
        "      After processing it with your function, the code should be changed to\n",
        "\n",
        "        def AddTwoNumbers(a, b):\n",
        "          return a + b\n",
        "        print(AddTwoNumbers(10, 20))\n",
        "\n",
        "        The nested dictionary is given by\n",
        "        d = {’add_two_numbers’:\n",
        "        {’hash’:-9214996652071026704,\n",
        "        ’camelcase’:’AddTwoNumbers’,\n",
        "        ’allcaps’:’ADD_TWO_NUMBERS’} }\n",
        "\n",
        "\n",
        "    - Example 2: Assume your input code is the multi-line string\n",
        "          def _major_split(*args):\n",
        "            return (args[:2], args[2:])\n",
        "          \n",
        "          \n",
        "          def CheckTruth(t = True):\n",
        "            print(’t is’, t)\n",
        "            return _major_split([t]*10)\n",
        "          \n",
        "          x, y = _major_split((10, 20, 30, 40, 50))\n",
        "\n",
        "\n",
        "\n",
        "      CheckTruth(len(x) == 10)\n",
        "\n",
        "      After processing it with your function, the code should be changed to\n",
        "          def _MajorSplit(*args):\n",
        "            return (args[:2], args[2:])\n",
        "          \n",
        "          def CheckTruth(t = True):\n",
        "            print(’t is’, t)\n",
        "            return _MajorSplit([t]*10)\n",
        "          x, y = _MajorSplit((10, 20, 30, 40, 50))\n",
        "          \n",
        "          CheckTruth(len(x) == 10)\n",
        "          \n",
        "          The nested dictionary is given by\n",
        "          \n",
        "          d = {’CheckTruth’:\n",
        "          {’hash’:-6410081306665365595,\n",
        "          ’camelcase’:’CheckTruth’,\n",
        "          ’allcaps’:’CHECKTRUTH’,\n",
        "          ’_major_split’:\n",
        "          {’hash’:484498917506710667,\n",
        "          ’camelcase’:’_MajorSplit’,\n",
        "          ’allcaps’:’_MAJOR_SPLIT’}}\n",
        "\n",
        "\n",
        "\n",
        "Test code: The examples given above are the only test cases to be handled for this question."
      ],
      "metadata": {
        "id": "-XQCi9ydHG9t"
      }
    },
    {
      "cell_type": "code",
      "source": [
        "import re\n",
        "\n",
        "def function_renamer(code):\n",
        "    pattern = r\"\\b_*[a-zA-Z]+_[a-z]+[_[a-zA-Z]+]*\\b\"\n",
        "    pattern2 = r\"[A-Z][a-z]+(?:[A-Z][a-z]+)+\"\n",
        "    matches =re.findall(pattern,code)\n",
        "    matches2 = set(re.findall(pattern2,code))\n",
        "\n",
        "    count = 0\n",
        "    i=0\n",
        "  \n",
        "  \n",
        "    for name in matches:\n",
        "      words = name.split('_')\n",
        "      while words[i] == \"\":\n",
        "        count +=1\n",
        "        i+=1\n",
        "      undercore = \"_\"*count\n",
        "      camel_case = ''.join(word.capitalize() for word in words)\n",
        "      camel_case = undercore+camel_case[0].upper() + camel_case[1:]\n",
        "      code = re.sub(r\"\\b\"+name+r\"\\b\",camel_case,code)\n",
        "\n",
        "    print(code,\"\\n\")\n",
        "\n",
        "    sub_dict = {\"hash\":hash(matches[0]),\"camelcase\":camel_case,\"allcaps\":matches[0].upper()}\n",
        "    dict1 = {matches[0]:sub_dict}\n",
        "\n",
        "    for name in matches2:\n",
        "      sub_dict = {\"hash\":hash(name),\"camelcase\":name,\"allcaps\":name.upper()}\n",
        "      dict1[name] = sub_dict\n",
        "\n",
        "    \n",
        "    print(\"The nested dictionary is given by: \",dict1)\n",
        "    \n"
      ],
      "metadata": {
        "id": "FQy1xCBIJu5E"
      },
      "execution_count": 1,
      "outputs": []
    },
    {
      "cell_type": "code",
      "source": [
        "code = \"\"\"def add_two_numbers(a, b):\n",
        "      return a + b\n",
        "      print(add_two_numbers(10, 20))\"\"\"\n",
        "\n",
        "print(function_renamer(code))"
      ],
      "metadata": {
        "colab": {
          "base_uri": "https://localhost:8080/"
        },
        "id": "2SeXfEI7CEEJ",
        "outputId": "3ab15ace-a5d2-4901-b352-3299911a0694"
      },
      "execution_count": 2,
      "outputs": [
        {
          "output_type": "stream",
          "name": "stdout",
          "text": [
            "def AddTwoNumbers(a, b):\n",
            "      return a + b\n",
            "      print(AddTwoNumbers(10, 20)) \n",
            "\n",
            "The nested dictionary is given by:  {'add_two_numbers': {'hash': -3538311018389950803, 'camelcase': 'AddTwoNumbers', 'allcaps': 'ADD_TWO_NUMBERS'}}\n",
            "None\n"
          ]
        }
      ]
    },
    {
      "cell_type": "code",
      "source": [
        "code = \"\"\"def _major_split(*args):\n",
        "        return (args[:2], args[2:])\n",
        "\n",
        "\n",
        "      def CheckTruth(t = True):\n",
        "        print(’t is’, t)\n",
        "        return _major_split([t]*10)\n",
        "\n",
        "      x, y = _major_split((10, 20, 30, 40, 50))\n",
        "    CheckTruth(len(x) == 10)\"\"\"\n",
        "\n",
        "print(function_renamer(code))"
      ],
      "metadata": {
        "colab": {
          "base_uri": "https://localhost:8080/"
        },
        "id": "hC5730-SCL7x",
        "outputId": "9d41e0a5-9e10-4ab1-8804-afd303075a17"
      },
      "execution_count": 3,
      "outputs": [
        {
          "output_type": "stream",
          "name": "stdout",
          "text": [
            "def _MajorSplit(*args):\n",
            "        return (args[:2], args[2:])\n",
            "\n",
            "\n",
            "      def CheckTruth(t = True):\n",
            "        print(’t is’, t)\n",
            "        return _MajorSplit([t]*10)\n",
            "\n",
            "      x, y = _MajorSplit((10, 20, 30, 40, 50))\n",
            "    CheckTruth(len(x) == 10) \n",
            "\n",
            "The nested dictionary is given by:  {'_major_split': {'hash': 1571366656060063881, 'camelcase': '_MajorSplit', 'allcaps': '_MAJOR_SPLIT'}, 'CheckTruth': {'hash': 4421959182036189645, 'camelcase': 'CheckTruth', 'allcaps': 'CHECKTRUTH'}}\n",
            "None\n"
          ]
        }
      ]
    },
    {
      "cell_type": "markdown",
      "source": [
        "## Submit your solution\n",
        "\n",
        "Once you are finish with the test, please make sure that you have renamed your solutions in the format given ahead ex. **python_test(pranav_uikey)** and submit it using this [following link](https://github.com/Ai-Adventures/Python_test_submissions)"
      ],
      "metadata": {
        "id": "TSSWnkRKpDmB"
      }
    },
    {
      "source": [
        "## All The Best!!"
      ],
      "cell_type": "markdown",
      "metadata": {
        "id": "3DGlZHtVnU0A"
      }
    }
  ]
}